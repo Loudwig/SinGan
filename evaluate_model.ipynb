{
 "cells": [
  {
   "cell_type": "code",
   "execution_count": 1,
   "metadata": {},
   "outputs": [],
   "source": [
    "import numpy as np\n",
    "import matplotlib.pyplot as plt\n",
    "import time\n",
    "import torchsummary\n",
    "\n",
    "import torch\n",
    "import torch.nn as nn\n",
    "import torch.nn.functional as F\n",
    "import torch.optim as optim\n",
    "from torchvision.transforms.functional import resize, to_tensor, to_pil_image\n",
    "from PIL import Image\n",
    "from tqdm import tqdm\n",
    "import os, datetime ,json\n"
   ]
  },
  {
   "cell_type": "code",
   "execution_count": 2,
   "metadata": {},
   "outputs": [],
   "source": [
    "def pil_from_minus1to1(t):\n",
    "    \"\"\"\n",
    "    Convertit un tenseur [-1,1] (CHW ou 1,C,H,W) en PIL Image.\n",
    "    \"\"\"\n",
    "    t = t.squeeze(0) if t.dim() == 4 else t          # B×C×H×W → C×H×W\n",
    "    t = ((t.clamp(-1, 1) + 1) / 2)                   # [-1,1] → [0,1]\n",
    "    return to_pil_image(t.cpu())"
   ]
  },
  {
   "cell_type": "code",
   "execution_count": 3,
   "metadata": {},
   "outputs": [],
   "source": [
    "def extract_patches(img, patch_size, stride):\n",
    "    \n",
    "    img_batch = img.unsqueeze(0)  # (1, C, H, W)\n",
    "    patches = torch.nn.functional.unfold(img_batch, kernel_size=patch_size, stride=stride)\n",
    "    patches = patches.squeeze(0).T  # (num_patches, C*patch_size*patch_size)\n",
    "   \n",
    "    return patches\n",
    "\n",
    "def get_gaussian_params(patches, debug=True):\n",
    "    # patches: Tensor (N, D)\n",
    "    \n",
    "    mu = patches.mean(dim=0)\n",
    "    centered = patches - mu\n",
    "    Sigma = (centered.T @ centered) / (patches.shape[0] - 1)\n",
    "    \n",
    "    return mu, Sigma\n",
    "\n",
    "import torch\n",
    "\n",
    "def matrix_sqrt_eig(mat, eps=1e-10, debug=True):\n",
    "    \"\"\"\n",
    "    Symmetric square root of an SPD matrix via eigen-decomposition.\n",
    "    \"\"\"\n",
    "    # 1) Enforce perfect symmetry\n",
    "    mat = (mat + mat.T) / 2\n",
    "\n",
    "    # 2) Eigen-decomposition\n",
    "    vals, vecs = torch.linalg.eigh(mat)\n",
    "    # 3) Clamp to avoid tiny negatives, then sqrt\n",
    "    vals = torch.clamp(vals, min=eps)\n",
    "    sqrt_mat = vecs @ torch.diag(torch.sqrt(vals)) @ vecs.T\n",
    "\n",
    "    # 4) Re-symmetrize result\n",
    "    sqrt_mat = (sqrt_mat + sqrt_mat.T) / 2\n",
    "    \n",
    "\n",
    "    return sqrt_mat\n",
    "\n",
    "def wasserstein_2_gaussian_eig(mu1, Sigma1, mu2, Sigma2, eps=1e-12, debug=True):\n",
    "    \"\"\"\n",
    "    Computes W2^2 between two Gaussians (mu1, Sigma1) and (mu2, Sigma2),\n",
    "    using a robust eigen-based sqrt.\n",
    "    \"\"\"\n",
    "    # Mean term\n",
    "    diff_mu_sq = torch.norm(mu1 - mu2)**2\n",
    "    if debug:\n",
    "        print(\"moyenne diff =\", diff_mu_sq.item())\n",
    "\n",
    "    # double sinon pas assez précis. \n",
    "    A = Sigma1 + eps * torch.eye(Sigma1.size(0), device=Sigma1.device,dtype=torch.float64)\n",
    "    S1 = matrix_sqrt_eig(A, eps=eps, debug=debug)\n",
    "\n",
    "    # Inner product √(S1 Σ2 S1)\n",
    "    prod = S1 @ Sigma2 @ S1\n",
    "    S2 = matrix_sqrt_eig(prod, eps=eps, debug=debug)\n",
    "\n",
    "    # Trace term\n",
    "    trace_term = torch.trace(Sigma1 + Sigma2 - 2 * S2)\n",
    "    if debug:\n",
    "        print(\"trace term =\", trace_term.item())\n",
    "\n",
    "    return diff_mu_sq + trace_term\n"
   ]
  },
  {
   "cell_type": "code",
   "execution_count": 4,
   "metadata": {},
   "outputs": [],
   "source": [
    "class Generator(nn.Module):\n",
    "    \n",
    "    def __init__(self,n_hidden):\n",
    "        super().__init__()\n",
    "        self.n_hidden = n_hidden\n",
    "        self.main = nn.Sequential(\n",
    "            nn.Conv2d(in_channels=3, out_channels=self.n_hidden, kernel_size=3, padding=1),\n",
    "            nn.BatchNorm2d(self.n_hidden),\n",
    "            nn.LeakyReLU(0.2, inplace=True),\n",
    "\n",
    "            nn.Conv2d(self.n_hidden, self.n_hidden, 3, padding=1),\n",
    "            nn.BatchNorm2d(self.n_hidden),\n",
    "            nn.LeakyReLU(0.2, inplace=True),\n",
    "\n",
    "            nn.Conv2d(self.n_hidden, self.n_hidden, 3, padding=1),\n",
    "            nn.BatchNorm2d(self.n_hidden),\n",
    "            nn.LeakyReLU(0.2, inplace=True),\n",
    "\n",
    "            nn.Conv2d(self.n_hidden, self.n_hidden, 3, padding=1),\n",
    "            nn.BatchNorm2d(self.n_hidden),\n",
    "            nn.LeakyReLU(0.2, inplace=True),\n",
    "\n",
    "            # Last conv layer outputs 3 channels (RGB), no batchnorm or activation\n",
    "            nn.Conv2d(self.n_hidden, 3, 3, padding=1),\n",
    "            nn.Tanh()\n",
    "        )\n",
    "        \n",
    "    def forward(self,input):\n",
    "        return self.main(input)"
   ]
  },
  {
   "cell_type": "code",
   "execution_count": 5,
   "metadata": {},
   "outputs": [],
   "source": [
    "im_name_to_path = {\n",
    "    \"oiseau\" : \"images/birds.png\"\n",
    "}"
   ]
  },
  {
   "cell_type": "code",
   "execution_count": 6,
   "metadata": {},
   "outputs": [
    {
     "name": "stdout",
     "output_type": "stream",
     "text": [
      "8 générateurs trouvés dans le checkpoint\n",
      "─── Description.txt ───\n",
      "date: 2025-05-30T16:14:07\n",
      "N: 8\n",
      "lambda_gp: 10\n",
      "r: 1.333\n",
      "lr: 0.0005\n",
      "betas: (0.5, 0.999)\n",
      "n_Discriminator: 5\n",
      "n_Generator: 2\n",
      "iter_per_scale: 2000\n",
      "alpha_rec: 10\n",
      "beta_sigma: 0.1\n",
      "comment: Sin Gan avec poids classique comme dans le papier sauf le padding\n",
      "────────────────────────\n",
      "\n",
      "sigma_n chargé (8 éléments) → 'loaded_sigma_n'\n",
      "z_star chargé de taille (1, 3, 21, 32) → 'loaded_z_star'\n",
      "8 générateurs instanciés → 'loaded_generators'\n"
     ]
    }
   ],
   "source": [
    "\n",
    "# --- (1) nom du modèle à charger -----------------------------------------------------\n",
    "image_name = \"oiseau\"\n",
    "model_name = \"basic\"\n",
    "model_dir  = os.path.join(\"models\",image_name ,model_name)\n",
    "weights_fp = os.path.join(model_dir, \"generators.pt\")\n",
    "descr_fp   = os.path.join(model_dir, \"Description.txt\")\n",
    "sigma_fp   = os.path.join(model_dir, \"sigma_n.json\")\n",
    "zstar_fp   = os.path.join(model_dir, \"z_star.pt\")  \n",
    "\n",
    "if not os.path.exists(weights_fp):\n",
    "    raise FileNotFoundError(f\"Impossible de trouver le fichier : {weights_fp}\")\n",
    "\n",
    "# --- (2) on lit la liste de state_dict ----------------------------------------------\n",
    "state_list = torch.load(weights_fp, map_location=\"cpu\")\n",
    "print(f\"{len(state_list)} générateurs trouvés dans le checkpoint\")\n",
    "\n",
    "# (facultatif) on affiche le petit fichier description\n",
    "if os.path.isfile(descr_fp):\n",
    "    print(\"─── Description.txt ───\")\n",
    "    with open(descr_fp, encoding=\"utf-8\") as f:\n",
    "        print(f.read().strip())\n",
    "    print(\"────────────────────────\\n\")\n",
    "\n",
    "# --- (2bis) on charge la liste sigma_n ----------------------------------------------\n",
    "if os.path.isfile(sigma_fp):\n",
    "    with open(sigma_fp, \"r\", encoding=\"utf-8\") as f:\n",
    "        loaded_sigma_n = json.load(f)\n",
    "    print(f\"sigma_n chargé ({len(loaded_sigma_n)} éléments) → 'loaded_sigma_n'\")\n",
    "else:\n",
    "    raise FileNotFoundError(f\"Impossible de trouver le fichier sigma_n : {sigma_fp}\")\n",
    "\n",
    "# --- (2ter) on charge z_star -------------------------------------------------------\n",
    "if os.path.isfile(zstar_fp):\n",
    "    loaded_z_star = torch.load(zstar_fp, map_location=\"cpu\")\n",
    "    print(f\"z_star chargé de taille {tuple(loaded_z_star.shape)} → 'loaded_z_star'\")\n",
    "else:\n",
    "    raise FileNotFoundError(f\"Impossible de trouver le fichier z_star : {zstar_fp}\")\n",
    "\n",
    "# --- (3) fonction helper : recrée un Generator adapté au state_dict -----------------\n",
    "def build_generator_from_state(sd, device=\"cpu\"):\n",
    "    for key in sd.keys():\n",
    "        if key.endswith(\".weight\") and sd[key].dim() == 4:\n",
    "            n_hidden = sd[key].shape[0]\n",
    "            break\n",
    "    else:\n",
    "        raise KeyError(\"Impossible d'inférer n_hidden depuis le state_dict.\")\n",
    "    G = Generator(n_hidden).to(device)\n",
    "    G.load_state_dict(sd, strict=True)\n",
    "    G.eval()\n",
    "    for p in G.parameters():\n",
    "        p.requires_grad_(False)\n",
    "    return G\n",
    "\n",
    "# --- (4) on construit la liste des générateurs chargés ------------------------------\n",
    "device = torch.device(\"cpu\")\n",
    "loaded_generators = [build_generator_from_state(sd, device=device) for sd in state_list]\n",
    "\n",
    "print(f\"{len(loaded_generators)} générateurs instanciés → 'loaded_generators'\")\n"
   ]
  },
  {
   "cell_type": "code",
   "execution_count": 7,
   "metadata": {},
   "outputs": [
    {
     "name": "stdout",
     "output_type": "stream",
     "text": [
      "Hyperparams chargés → N=8, r=1.333\n"
     ]
    }
   ],
   "source": [
    "loaded_params = {}\n",
    "with open(descr_fp, encoding=\"utf-8\") as f:\n",
    "    for line in f:\n",
    "        if \": \" not in line:\n",
    "            continue\n",
    "        key, val = line.strip().split(\": \", 1)\n",
    "        loaded_params[key] = val\n",
    "\n",
    "# Conversion au bon type\n",
    "loaded_N = int(loaded_params[\"N\"])\n",
    "loaded_r = float(loaded_params[\"r\"])  \n",
    "\n",
    "print(f\"Hyperparams chargés → N={loaded_N}, r={loaded_r}\")\n"
   ]
  },
  {
   "cell_type": "code",
   "execution_count": 8,
   "metadata": {},
   "outputs": [
    {
     "data": {
      "text/plain": [
       "{'date': '2025-05-30T16:14:07',\n",
       " 'N': '8',\n",
       " 'lambda_gp': '10',\n",
       " 'r': '1.333',\n",
       " 'lr': '0.0005',\n",
       " 'betas': '(0.5, 0.999)',\n",
       " 'n_Discriminator': '5',\n",
       " 'n_Generator': '2',\n",
       " 'iter_per_scale': '2000',\n",
       " 'alpha_rec': '10',\n",
       " 'beta_sigma': '0.1',\n",
       " 'comment': 'Sin Gan avec poids classique comme dans le papier sauf le padding'}"
      ]
     },
     "execution_count": 8,
     "metadata": {},
     "output_type": "execute_result"
    }
   ],
   "source": [
    "loaded_params"
   ]
  },
  {
   "cell_type": "code",
   "execution_count": 9,
   "metadata": {},
   "outputs": [
    {
     "name": "stdout",
     "output_type": "stream",
     "text": [
      "inital tensor size : torch.Size([3, 164, 244])\n",
      "rescaled tensor size : torch.Size([3, 168, 249])\n"
     ]
    }
   ],
   "source": [
    "path = im_name_to_path[image_name]\n",
    "im = Image.open(path).convert(\"RGB\")\n",
    "im_tensor_cpu = to_tensor(im).to(device=\"cpu\")\n",
    "\n",
    "print(f\"inital tensor size : {im_tensor_cpu.shape}\")\n",
    "\n",
    "\n",
    "max_dim = 250\n",
    "_, H, W = im_tensor_cpu.shape\n",
    "scale_factor = max_dim / max(H, W)\n",
    "\n",
    "new_H = int(H * scale_factor)\n",
    "new_W = int(W * scale_factor)\n",
    "im_resized = resize(im_tensor_cpu.unsqueeze(0), size=[new_H, new_W], antialias=True).squeeze(0) *2 -1\n",
    "\n",
    "print(f\"rescaled tensor size : {im_resized.shape}\")"
   ]
  },
  {
   "cell_type": "code",
   "execution_count": 10,
   "metadata": {},
   "outputs": [],
   "source": [
    "scales = [im_resized.unsqueeze(0)]    # niveau 0 = fine\n",
    "\n",
    "for i in range(0, loaded_N):\n",
    "    prev = scales[-1]\n",
    "    _, _, h, w = prev.shape\n",
    "    new_h = max(int(h / loaded_r), 1)\n",
    "    new_w = max(int(w / loaded_r), 1)\n",
    "    down = resize(prev, size=[new_h, new_w], antialias=True)\n",
    "    scales.append(down)\n"
   ]
  },
  {
   "cell_type": "code",
   "execution_count": 11,
   "metadata": {},
   "outputs": [],
   "source": [
    "@torch.no_grad()\n",
    "def generate_multiscale(start_scale: int = loaded_N - 1,Generators = loaded_generators):\n",
    "    \"\"\"\n",
    "    start_scale = 0  → on ne renouvelle le bruit qu’à la fine scale\n",
    "    start_scale = N-1→ on renouvelle le bruit à toutes les échelles\n",
    "    \"\"\"\n",
    "    # Génération totale\n",
    "    if start_scale == loaded_N-1 : \n",
    "        h, w = scales[-1].shape[2:]\n",
    "        gen_image = [torch.zeros((1, 3, h, w), device=device)]\n",
    "\n",
    "         # 2. on remonte coarse → fine\n",
    "        for i in range(loaded_N):\n",
    "            k = loaded_N - 1 - i                    \n",
    "        \n",
    "            prev = gen_image[-1]\n",
    "            if prev.shape[2:] != scales[k].shape[2:]:\n",
    "                prev = F.interpolate(prev, size=scales[k].shape[2:],\n",
    "                                    mode='bilinear', align_corners=False)\n",
    "\n",
    "            z = torch.randn_like(prev) * loaded_sigma_n[k]\n",
    "            \n",
    "\n",
    "            x_k = Generators[k](z + prev) + prev\n",
    "            gen_image.append(x_k)\n",
    "\n",
    "        \n",
    "\n",
    "    else : \n",
    "        low = scales[start_scale+1] \n",
    "        up = F.interpolate(low, size=scales[start_scale].shape[2:],\n",
    "                                    mode='bilinear', align_corners=False)\n",
    "        gen_image = [up]\n",
    "\n",
    "         # 2. on remonte coarse → fine\n",
    "        for scale in range(start_scale,-1,-1):\n",
    "                            \n",
    "            prev = gen_image[-1]\n",
    "            if prev.shape[2:] != scales[scale].shape[2:]:\n",
    "                prev = F.interpolate(prev, size=scales[scale].shape[2:],\n",
    "                                    mode='bilinear', align_corners=False)\n",
    "\n",
    "            z = torch.randn_like(prev) * loaded_sigma_n[scale]\n",
    "            x_k = Generators[scale](z + prev) + prev\n",
    "            gen_image.append(x_k)\n",
    "\n",
    "    \n",
    "    return gen_image[1:]\n",
    "        \n",
    "    \n"
   ]
  },
  {
   "cell_type": "code",
   "execution_count": 12,
   "metadata": {},
   "outputs": [
    {
     "name": "stdout",
     "output_type": "stream",
     "text": [
      "Fake tensor shape: torch.Size([8, 3, 168, 249])\n"
     ]
    }
   ],
   "source": [
    "# Cell 2: Génération et stockage des échantillons\n",
    "out_dir = \"outputs/\" + image_name\n",
    "os.makedirs(out_dir, exist_ok=True)\n",
    "\n",
    "K = 8\n",
    "final_imgs = []\n",
    "for k in range(K):\n",
    "    imgs = generate_multiscale(start_scale=loaded_N-1, Generators=loaded_generators)\n",
    "    # On stocke la dernière image de chaque synthèse\n",
    "    final_imgs.append(imgs[-1].cpu().squeeze())\n",
    "\n",
    "# Convertir en [0,1] et assembler en un seul tenseur\n",
    "fake_tensor = torch.stack(final_imgs)               # (K, C, H, W)\n",
    "fake_tensor01 = (fake_tensor.clamp(-1, 1) + 1) / 2   # [-1,1] → [0,1]\n",
    "print(\"Fake tensor shape:\", fake_tensor01.shape)\n"
   ]
  },
  {
   "cell_type": "code",
   "execution_count": 13,
   "metadata": {},
   "outputs": [
    {
     "name": "stdout",
     "output_type": "stream",
     "text": [
      "Fake patches shape: torch.Size([30800, 1200])\n"
     ]
    }
   ],
   "source": [
    "# Cell 4: Extract patches from fake images & print\n",
    "\n",
    "patch_size = 20\n",
    "stride = 3\n",
    "\n",
    "all_fake_patches = [extract_patches(img, patch_size, stride) for img in fake_tensor01]\n",
    "patches_fake = torch.cat(all_fake_patches, dim=0).double()\n",
    "\n",
    "print(\"Fake patches shape:\", patches_fake.shape)  # (total_fake_patches, C*patch_size^2)\n"
   ]
  },
  {
   "cell_type": "code",
   "execution_count": 14,
   "metadata": {},
   "outputs": [
    {
     "name": "stdout",
     "output_type": "stream",
     "text": [
      "Real tensor shape: torch.Size([1, 3, 168, 249])\n",
      "Real image shape after squeeze: torch.Size([3, 168, 249])\n",
      "Real patches shape: torch.Size([3850, 1200])\n"
     ]
    }
   ],
   "source": [
    "# Cell 5: Process real image & print shape\n",
    "\n",
    "# Suppose im_resized is your real image Tensor of shape (C, H, W)\n",
    "# If you have im_resized.unsqueeze(0), do:\n",
    "real_tensor = scales[0]  # (1, C, H, W)\n",
    "print(\"Real tensor shape:\", real_tensor.shape)\n",
    "\n",
    "real_img = real_tensor.squeeze(0)      # (C, H, W)\n",
    "print(\"Real image shape after squeeze:\", real_img.shape)\n",
    "\n",
    "# Normalize real image to [0,1] just like your fakes\n",
    "real_img01 = (im_resized.clamp(-1, 1) + 1) / 2    # (C, H, W)\n",
    "\n",
    "patches_real = extract_patches(real_img01, patch_size, stride).double()\n",
    "print(\"Real patches shape:\", patches_real.shape)\n"
   ]
  },
  {
   "cell_type": "code",
   "execution_count": 15,
   "metadata": {},
   "outputs": [
    {
     "name": "stdout",
     "output_type": "stream",
     "text": [
      "Real image stats: 0.0 1.0 0.5860886573791504\n",
      "Fake image stats: 0.0 1.0 0.5841817855834961\n"
     ]
    }
   ],
   "source": [
    "print(\"Real image stats:\", real_img01.min().item(), real_img01.max().item(), real_img01.mean().item())\n",
    "print(\"Fake image stats:\", fake_tensor01.min().item(), fake_tensor01.max().item(), fake_tensor01.mean().item())\n"
   ]
  },
  {
   "cell_type": "code",
   "execution_count": 16,
   "metadata": {},
   "outputs": [
    {
     "name": "stdout",
     "output_type": "stream",
     "text": [
      "moyenne diff = 0.1299216381734847\n",
      "trace term = 0.1867630026670479\n",
      "Wasserstein-2 Distance (squared): 0.3167\n"
     ]
    }
   ],
   "source": [
    "# Cell 6: Compute Gaussian params & W2 distance\n",
    "\n",
    "mu_fake, Sigma_fake = get_gaussian_params(patches_fake)\n",
    "mu_real, Sigma_real = get_gaussian_params(patches_real)\n",
    "\n",
    "w2 = wasserstein_2_gaussian_eig(mu_real, Sigma_real, mu_fake, Sigma_fake)\n",
    "print(f\"Wasserstein-2 Distance (squared): {w2.item():.4f}\")\n"
   ]
  },
  {
   "cell_type": "markdown",
   "metadata": {},
   "source": [
    "### Show some patches"
   ]
  },
  {
   "cell_type": "code",
   "execution_count": 17,
   "metadata": {},
   "outputs": [
    {
     "data": {
      "image/png": "[encoded data removed]",
      "text/plain": [
       "<Figure size 1800x200 with 9 Axes>"
      ]
     },
     "metadata": {},
     "output_type": "display_data"
    }
   ],
   "source": [
    "import random\n",
    "\n",
    "# image 0-1 en entrée\n",
    "patches = extract_patches(real_img01, patch_size, stride)  # (N, C*patch_size*patch_size)\n",
    "N, D = patches.shape\n",
    "C = real_img.shape[0]\n",
    "\n",
    "# Sélection aléatoire de quelques patches\n",
    "num_display = 9\n",
    "indices = random.sample(range(N), num_display)\n",
    "\n",
    "# Affichage\n",
    "fig, axes = plt.subplots(1, num_display, figsize=(num_display * 2, 2))\n",
    "for ax, idx in zip(axes, indices):\n",
    "    vec = patches[idx]\n",
    "    img_patch = vec.view(C, patch_size, patch_size).permute(1, 2, 0).cpu().numpy()\n",
    "    # Si vos patches sont normalisés [0,1], on les affiche directement\n",
    "    ax.imshow(img_patch)\n",
    "    ax.axis('off')\n",
    "    \n",
    "plt.suptitle(\"Exemple de patches extraits\", fontsize=12)\n",
    "plt.tight_layout()\n",
    "plt.show()"
   ]
  },
  {
   "cell_type": "code",
   "execution_count": 18,
   "metadata": {},
   "outputs": [],
   "source": [
    "import numpy as np\n",
    "\n",
    "patch_sizes   = [3, 7, 11,20,30]                 # Plusieurs tailles de patch\n",
    "start_scales  = list(range(loaded_N))      # 0 à N-1\n",
    "K             = 8                          # Nombre de samples par configuration\n",
    "stride        = 3                          # Votre stride défini précédemment\n",
    "\n",
    "# Préparation  \n",
    "w2_results = {ps: [] for ps in patch_sizes}  # Stocke W2 pour chaque patch_size\n",
    "w2_avg     = []                              # W2 moyen par start_scale\n",
    "\n",
    "for s in start_scales:\n",
    "    w2_vals_scale = []\n",
    "    for ps in patch_sizes:\n",
    "        # Générer K images à partir de start_scale = s\n",
    "        final_imgs = []\n",
    "        for _ in range(K):\n",
    "            imgs = generate_multiscale(start_scale=s, Generators=loaded_generators)\n",
    "            final_imgs.append(imgs[-1].cpu().squeeze())\n",
    "        # Tensor [0,1]\n",
    "        fake_tensor01 = (torch.stack(final_imgs).clamp(-1,1) + 1) / 2\n",
    "\n",
    "        # Extraire patches et convertir en float64\n",
    "        fake_patches = torch.cat(\n",
    "            [extract_patches(img, ps, stride) for img in fake_tensor01],\n",
    "            dim=0\n",
    "        ).double()\n",
    "        real_patches = extract_patches(real_img01, ps, stride).double()\n",
    "\n",
    "        # Paramètres Gaussiens\n",
    "        mu_f, S_f = get_gaussian_params(fake_patches)\n",
    "        mu_r, S_r = get_gaussian_params(real_patches)\n",
    "\n",
    "        # Calcul W2\n",
    "        w2 = wasserstein_2_gaussian_eig(mu_r, S_r, mu_f, S_f, eps=1e-12, debug=False)\n",
    "        w2_results[ps].append(w2.item())\n",
    "        w2_vals_scale.append(w2.item())\n",
    "\n",
    "    # Moyenne sur toutes les tailles de patch pour ce start_scale\n",
    "    w2_avg.append(np.mean(w2_vals_scale))"
   ]
  },
  {
   "cell_type": "code",
   "execution_count": 19,
   "metadata": {},
   "outputs": [
    {
     "data": {
      "image/png": "[encoded data removed]",
      "text/plain": [
       "<Figure size 600x400 with 1 Axes>"
      ]
     },
     "metadata": {},
     "output_type": "display_data"
    }
   ],
   "source": [
    "import matplotlib.pyplot as plt\n",
    "\n",
    "plt.figure(figsize=(6,4))\n",
    "plt.plot(start_scales, w2_avg, marker='o')\n",
    "plt.xlabel('start_scale')\n",
    "plt.ylabel('W2² moyen')\n",
    "plt.title('W2² moyen en fonction de start_scale')\n",
    "plt.grid(True)\n",
    "plt.show()"
   ]
  },
  {
   "cell_type": "code",
   "execution_count": 20,
   "metadata": {},
   "outputs": [
    {
     "data": {
      "image/png": "[encoded data removed]",
      "text/plain": [
       "<Figure size 600x400 with 1 Axes>"
      ]
     },
     "metadata": {},
     "output_type": "display_data"
    }
   ],
   "source": [
    "plt.figure(figsize=(6,4))\n",
    "for ps in patch_sizes:\n",
    "    plt.plot(start_scales, w2_results[ps], marker='o', label=f'patch {ps}')\n",
    "plt.xlabel('start_scale')\n",
    "plt.ylabel('W2²')\n",
    "plt.title('W2² vs start_scale par taille de patch')\n",
    "plt.legend()\n",
    "plt.grid(True)\n",
    "plt.show()"
   ]
  },
  {
   "cell_type": "markdown",
   "metadata": {},
   "source": [
    "### SIFID CLASSIQUE : \n",
    "\n",
    "    Inconvénients : On prend des grands patch de notre image (min 50x50) cela en fait pas beacoup d'indépendant déjà. Et pour les passer dans Inception V3 on doit les upscale jusqu'à 299x299 (énorme distorsion selon moi)\n",
    "\n"
   ]
  },
  {
   "cell_type": "code",
   "execution_count": null,
   "metadata": {},
   "outputs": [
    {
     "name": "stdout",
     "output_type": "stream",
     "text": [
      "moyenne diff = 0.2447919986709506\n",
      "trace term = 7.977748267829598\n",
      "SIFID^2 (W2^2) between real and fake: 8.222540266500548\n"
     ]
    }
   ],
   "source": [
    "import torch\n",
    "import torch.nn as nn\n",
    "import torch.nn.functional as F\n",
    "from torchvision import models, transforms\n",
    "import random\n",
    "import numpy as np\n",
    "\n",
    "# --------------------------------------------------------------------\n",
    "# 1) PREPARE A “TRUNCATED” Inception-v3 THAT OUTPUTS POOL3 FEATURES (2048-dim)\n",
    "# --------------------------------------------------------------------\n",
    "class InceptionV3_Pool3(nn.Module):\n",
    "    \"\"\"\n",
    "    Wrap torchvision's Inception-v3, cutting off right before the final\n",
    "    classification layer so you can grab the 2048-dim pool3 features.\n",
    "    \"\"\"\n",
    "    def __init__(self, device='cpu'):\n",
    "        super().__init__()\n",
    "        inception = models.inception_v3(weights=models.Inception_V3_Weights.DEFAULT, transform_input=False)\n",
    "        inception.eval()\n",
    "        \n",
    "        # We only need all layers up through the last pooling layer (pool3).\n",
    "        # Officially: Inception’s features: conv1 → ... → mixed_7c → AdaptiveAvgPool2d → dropout → fc\n",
    "        # We cut right after the last pooling (AdaptiveAvgPool2d).\n",
    "        layers = []\n",
    "        # “Conv2d_1a_3x3” ... through “Mixed_7c” are stored as inception.features in torchvision\n",
    "        for name, module in inception.named_children():\n",
    "            if name == 'AuxLogits' or name == 'fc': \n",
    "                # skip the aux classifier & final fc\n",
    "                continue\n",
    "            layers.append(module)\n",
    "            # Once we append “inception.Mixed_7c” and “inception.avgpool”, we break.\n",
    "            if name == 'avgpool':\n",
    "                break\n",
    "        \n",
    "        self.trunk = nn.Sequential(*layers)\n",
    "        self.device = device\n",
    "        self.to(device)\n",
    "    \n",
    "    def forward(self, x):\n",
    "        \"\"\"\n",
    "        Input x: Tensor of shape (B, 3, 299, 299), normalized as Inception‐v3 expects.\n",
    "        Output: Tensor of shape (B, 2048) – the pool3 features.\n",
    "        \"\"\"\n",
    "        with torch.no_grad():\n",
    "            # Inception‐v3 expects input in [-1, 1] or [0, 1] transformed by its own normalization.\n",
    "            # torchvision’s pretrained Inception expects inputs normalized by:\n",
    "            #   mean = [0.485, 0.456, 0.406], std = [0.229, 0.224, 0.225]\n",
    "            # and each pixel in [0,1]. We’ll handle that in our patch preprocessing below.\n",
    "            x = self.trunk(x)             # e.g. (B, 2048, 1, 1) if avgpool is AdaptiveAvgPool2d\n",
    "            x = torch.flatten(x, 1)       # (B, 2048)\n",
    "        return x\n",
    "\n",
    "# Instantiate one Inception model to extract pool3 features:\n",
    "device = torch.device('cuda' if torch.cuda.is_available() else 'cpu')\n",
    "inception_model = InceptionV3_Pool3(device=device)\n",
    "inception_model.eval()\n",
    "\n",
    "# --------------------------------------------------------------------\n",
    "# 2) DEFINE A PATCH EXTRACTOR (random or grid-based)\n",
    "# --------------------------------------------------------------------\n",
    "def extract_random_patches(img: torch.Tensor, \n",
    "                           patch_size: int, \n",
    "                           num_patches: int, \n",
    "                           debug: bool=False):\n",
    "    \"\"\"\n",
    "    img: Tensor of shape (C, H, W), with values in [0,1] or [-1,1].\n",
    "    patch_size: int, e.g. 50 (meaning we’ll take 50×50 pixel crops).\n",
    "    num_patches: how many random patches to sample.\n",
    "    Returns a Tensor of shape (num_patches, C, patch_size, patch_size).\n",
    "    \"\"\"\n",
    "    C, H, W = img.shape\n",
    "    patches = []\n",
    "    for _ in range(num_patches):\n",
    "        # Random top-left corner for a patch\n",
    "        top = random.randint(0, H - patch_size)\n",
    "        left = random.randint(0, W - patch_size)\n",
    "        patch = img[:, top:top+patch_size, left:left+patch_size]  # (C, patch_size, patch_size)\n",
    "        patches.append(patch)\n",
    "    \n",
    "    patches = torch.stack(patches, dim=0)  # (num_patches, C, patch_size, patch_size)\n",
    "    if debug:\n",
    "        print(\"Extracted patches shape:\", patches.shape)\n",
    "    return patches\n",
    "\n",
    "# --------------------------------------------------------------------\n",
    "# 3) SET UP TRANSFORMS TO RESIZE & NORMALIZE PATCHES FOR INCEPTION\n",
    "# --------------------------------------------------------------------\n",
    "inception_preprocess = transforms.Compose([\n",
    "    transforms.Resize((299, 299)),\n",
    "    # If your patches are in [-1,1], shift to [0,1] first, then normalize:\n",
    "    transforms.Lambda(lambda t: (t + 1) / 2 if t.min() < 0 else t),\n",
    "    transforms.Normalize(mean=[0.485, 0.456, 0.406],\n",
    "                         std=[0.229, 0.224, 0.225]),\n",
    "])\n",
    "\n",
    "def preprocess_patches_for_inception(patches: torch.Tensor):\n",
    "    \"\"\"\n",
    "    patches: Tensor (N, C, patch_size, patch_size), in [0,1] or [-1,1].\n",
    "    Returns: Tensor (N, 3, 299, 299) ready for Inception.\n",
    "    \"\"\"\n",
    "    # Apply the same resize+normalize to each patch\n",
    "    N = patches.shape[0]\n",
    "    processed = torch.zeros((N, 3, 299, 299), device=patches.device, dtype=torch.float32)\n",
    "    for i in range(N):\n",
    "        processed[i] = inception_preprocess(patches[i])\n",
    "    return processed\n",
    "\n",
    "# --------------------------------------------------------------------\n",
    "# 4) FUNCTION TO COMPUTE SIFID COVERING ONE REAL VS ONE GENERATED IMAGE\n",
    "# --------------------------------------------------------------------\n",
    "def compute_sifid(real_img: torch.Tensor,\n",
    "                  fake_img: torch.Tensor,\n",
    "                  patch_size: int    = 50,\n",
    "                  num_patches: int   = 100,\n",
    "                  eps: float         = 1e-12):\n",
    "    \"\"\"\n",
    "    real_img, fake_img: Tensors of shape (C, H, W) with values in [-1,1] or [0,1].\n",
    "      (If in [-1,1], this code will shift to [0,1] in preprocess.)\n",
    "    patch_size: size of crop (e.g. 50x50).\n",
    "    num_patches: how many random patches to sample from each image.\n",
    "    Returns: SIFID^2 = W2^2 between Inception‐pool3 features of real vs fake.\n",
    "    \"\"\"\n",
    "    device = real_img.device\n",
    "    \n",
    "    # 1) Extract random patches from each image (float32)\n",
    "    real_patches = extract_random_patches(real_img.clamp(-1,1), \n",
    "                                          patch_size, num_patches)  # (N, C, ps, ps)\n",
    "    fake_patches = extract_random_patches(fake_img.clamp(-1,1), \n",
    "                                          patch_size, num_patches)\n",
    "\n",
    "    # 2) Preprocess for Inception (resize+normalize)\n",
    "    real_inp = preprocess_patches_for_inception(real_patches.to(device))  # (N,3,299,299)\n",
    "    fake_inp = preprocess_patches_for_inception(fake_patches.to(device))\n",
    "\n",
    "    # 3) Run through Inception to get pool3 features (2048 dim)\n",
    "    #    InceptionV3_Pool3 already returns (N, 2048)\n",
    "    with torch.no_grad():\n",
    "        feat_real = inception_model(real_inp)\n",
    "        feat_fake = inception_model(fake_inp)\n",
    "\n",
    "    # 4) Convert to double precision for stable covariance\n",
    "    feat_real = feat_real.double()\n",
    "    feat_fake = feat_fake.double()\n",
    "\n",
    "    # 5) Compute mean & covariance\n",
    "    mu_r, Sigma_r = get_gaussian_params(feat_real)  # from your helper\n",
    "    mu_f, Sigma_f = get_gaussian_params(feat_fake)\n",
    "\n",
    "    # 6) Compute W2^2 (Fréchet) between the two Gaussians\n",
    "    w2sq = wasserstein_2_gaussian_eig(mu_r, Sigma_r, mu_f, Sigma_f,\n",
    "                                      eps=eps, debug=True)\n",
    "    # Clamp in case of small negative numeric drift\n",
    "    return float(torch.clamp(w2sq, min=0.0).item())\n",
    "\n",
    "# --------------------------------------------------------------------\n",
    "# 5) EXAMPLE USAGE\n",
    "# --------------------------------------------------------------------\n",
    "# Suppose you already have real_img01 and fake_tensor01 from your SinGAN pipeline,\n",
    "# each in shape (C, H, W) and normalized to [-1,1] or [0,1].\n",
    "# Let’s just pick one generated image to compare:\n",
    "\n",
    "fake11 = generate_multiscale(start_scale=loaded_N-1, Generators=loaded_generators)[-1].cpu().squeeze()\n",
    "fake01 = (fake11.clamp(-1, 1) + 1) / 2\n",
    "\n",
    "\n",
    "real = real_img01.to(device)         # (3, H, W), values in [0,1] or [-1,1]\n",
    "fake = fake01[0].to(device)   # take the first fake sample (3, H, W)\n",
    "\n",
    "sifid_value = compute_sifid(real, real,\n",
    "                           patch_size=60,\n",
    "                           num_patches=1000,   # you can sample more for stability\n",
    "                           eps=1e-12)\n",
    "print(\"SIFID^2 (W2^2) between real and fake:\", sifid_value)\n"
   ]
  },
  {
   "cell_type": "code",
   "execution_count": 23,
   "metadata": {},
   "outputs": [
    {
     "name": "stderr",
     "output_type": "stream",
     "text": [
      "/Users/rplanchon/.venvs/torch-nightly/lib/python3.12/site-packages/torchvision/models/_utils.py:208: UserWarning: The parameter 'pretrained' is deprecated since 0.13 and may be removed in the future, please use 'weights' instead.\n",
      "  warnings.warn(\n",
      "/Users/rplanchon/.venvs/torch-nightly/lib/python3.12/site-packages/torchvision/models/_utils.py:223: UserWarning: Arguments other than a weight enum or `None` for 'weights' are deprecated since 0.13 and may be removed in the future. The current behavior is equivalent to passing `weights=Inception_V3_Weights.IMAGENET1K_V1`. You can also use `weights=Inception_V3_Weights.DEFAULT` to get the most up-to-date weights.\n",
      "  warnings.warn(msg)\n"
     ]
    }
   ],
   "source": [
    "inception = models.inception_v3(pretrained=True, transform_input=False).to(device)\n",
    "inception.eval()\n",
    "\n",
    "# Choose a layer whose activation map we will use as patch-features.\n",
    "# For torchvision Inception-v3, use 'Mixed_7c' or an earlier mixed block.\n",
    "# We register a forward hook to capture its output.\n",
    "layer_name = 'Mixed_7c'\n",
    "features_real = []\n",
    "features_fake = []\n",
    "\n",
    "def get_module_by_name(model, name):\n",
    "    for n, module in model.named_modules():\n",
    "        if n == name:\n",
    "            return module\n",
    "    raise ValueError(f\"Layer {name} not found\")\n",
    "\n",
    "# Hook function will collect activation maps\n",
    "def hook_fn_real(module, input, output):\n",
    "    # output shape: (B, C, H', W')\n",
    "    feat = output.detach()  # (1, C, H', W')\n",
    "    # Flatten spatial dims: (C, H'*W') -> (H'*W', C)\n",
    "    B, C, Hf, Wf = feat.shape\n",
    "    feat = feat.view(B, C, Hf * Wf).permute(0, 2, 1).squeeze(0)  # (H'*W', C)\n",
    "    features_real.append(feat)\n",
    "\n",
    "def hook_fn_fake(module, input, output):\n",
    "    B, C, Hf, Wf = output.shape\n",
    "    feat = output.detach().view(B, C, Hf * Wf).permute(0, 2, 1).squeeze(0)\n",
    "    features_fake.append(feat)\n",
    "\n",
    "# Register hooks\n",
    "layer_module = get_module_by_name(inception, layer_name)\n",
    "hook_handle_real = layer_module.register_forward_hook(hook_fn_real)\n",
    "hook_handle_fake = layer_module.register_forward_hook(hook_fn_fake)\n",
    "\n",
    "# Preprocessing for full image: resize to 299x299 and normalize\n",
    "preprocess_full = transforms.Compose([\n",
    "    transforms.Resize((299, 299)),\n",
    "    transforms.Lambda(lambda t: (t + 1) / 2 if t.min() < 0 else t),\n",
    "    transforms.Normalize(mean=[0.485, 0.456, 0.406],\n",
    "                         std=[0.229, 0.224, 0.225])\n",
    "])"
   ]
  },
  {
   "cell_type": "code",
   "execution_count": 26,
   "metadata": {},
   "outputs": [
    {
     "name": "stdout",
     "output_type": "stream",
     "text": [
      "moyenne diff = 0.0\n",
      "trace term = -0.0043471267035477094\n",
      "Patch-FID^2 via feature map: -0.0043471267035477094\n"
     ]
    }
   ],
   "source": [
    "# Cell 3: Compute Patch-FID (W2) via feature maps for one real vs one fake\n",
    "\n",
    "def compute_patch_fid_feature_map(real_img, fake_img, eps=1e-12):\n",
    "    \"\"\"\n",
    "    real_img, fake_img: Tensors of shape (C, H, W), in [-1,1] or [0,1].\n",
    "    Returns: patch-FID^2 (W2^2) between feature-map distributions.\n",
    "    \"\"\"\n",
    "    # Clear previous feature lists\n",
    "    features_real.clear()\n",
    "    features_fake.clear()\n",
    "\n",
    "    # Preprocess and forward-pass real image\n",
    "    inp_real = preprocess_full(real_img.unsqueeze(0).to(device))\n",
    "    _ = inception(inp_real)\n",
    "    feat_real = features_real[-1].double()  # (N_real_patches, D)\n",
    "\n",
    "    # Preprocess and forward-pass fake image\n",
    "    features_fake.clear()\n",
    "    inp_fake = preprocess_full(fake_img.unsqueeze(0).to(device))\n",
    "    _ = inception(inp_fake)\n",
    "    feat_fake = features_fake[-1].double()  # (N_fake_patches, D)\n",
    "\n",
    "    # Compute Gaussian params\n",
    "    mu_r, Sigma_r = get_gaussian_params(feat_real)\n",
    "    mu_f, Sigma_f = get_gaussian_params(feat_fake)\n",
    "\n",
    "    # Compute W2^2\n",
    "    w2sq = wasserstein_2_gaussian_eig(mu_r, Sigma_r, mu_f, Sigma_f, eps=eps)\n",
    "    return float(w2sq.item())\n",
    "\n",
    "# Remove hooks after use (when no longer needed)\n",
    "# hook_handle_real.remove()\n",
    "# hook_handle_fake.remove()\n",
    "\n",
    "fake11 = generate_multiscale(start_scale=loaded_N-1, Generators=loaded_generators)[-1].cpu().squeeze()\n",
    "fake01 = (fake11.clamp(-1, 1) + 1) / 2\n",
    "\n",
    "\n",
    "\n",
    "# Example usage:\n",
    "real = real_img01  # (3,H,W)\n",
    "fake = fake01  # take one generated sample\n",
    "patch_fid = compute_patch_fid_feature_map(real, real)\n",
    "print(\"Patch-FID^2 via feature map:\", patch_fid)\n"
   ]
  }
 ],
 "metadata": {
  "language_info": {
   "name": "python"
  }
 },
 "nbformat": 4,
 "nbformat_minor": 2
}
