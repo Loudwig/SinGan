{
 "cells": [
  {
   "cell_type": "code",
   "execution_count": 1,
   "metadata": {},
   "outputs": [],
   "source": [
    "from utils_ot import *\n",
    "from PIL import Image\n",
    "import torch\n",
    "from torchvision.transforms.functional import resize, to_tensor, to_pil_image\n",
    "from models import *\n"
   ]
  },
  {
   "cell_type": "code",
   "execution_count": 2,
   "metadata": {},
   "outputs": [],
   "source": [
    "ref_image_path = \"images/zebra.png\"\n",
    "path_fake = \"outputs/zebre/gen_20250610_160458_7.png\"\n"
   ]
  },
  {
   "cell_type": "code",
   "execution_count": 3,
   "metadata": {},
   "outputs": [
    {
     "name": "stdout",
     "output_type": "stream",
     "text": [
      "inital tensor size : torch.Size([3, 380, 572])\n",
      "redized iamge shape : torch.Size([1, 3, 16, 25])\n"
     ]
    }
   ],
   "source": [
    "\n",
    "im = Image.open(ref_image_path).convert(\"RGB\")\n",
    "im_tensor_cpu = to_tensor(im).to(device=\"cpu\")\n",
    "print(f\"inital tensor size : {im_tensor_cpu.shape}\")\n",
    "\n",
    "max_dim = 25\n",
    "_, H, W = im_tensor_cpu.shape\n",
    "scale_factor = max_dim / max(H, W)\n",
    "\n",
    "new_H = int(H * scale_factor)\n",
    "new_W = int(W * scale_factor)\n",
    "im_resized = resize(im_tensor_cpu.unsqueeze(0), size=[new_H, new_W], antialias=True)*2 -1\n",
    "print(f\"redized iamge shape : {im_resized.shape}\")"
   ]
  },
  {
   "cell_type": "code",
   "execution_count": 4,
   "metadata": {},
   "outputs": [
    {
     "name": "stdout",
     "output_type": "stream",
     "text": [
      "inital tensor size : torch.Size([3, 166, 250])\n",
      "torch.Size([16, 25])\n"
     ]
    }
   ],
   "source": [
    "im_fake = Image.open(path_fake).convert(\"RGB\")\n",
    "im_fake_tensor = to_tensor(im_fake).to(device=\"cpu\")\n",
    "print(f\"inital tensor size : {im_fake_tensor.shape}\")\n",
    "print(im_resized.shape[2:])\n",
    "im_fake_tensor = resize(im_fake_tensor.unsqueeze(0),size = im_resized.shape[2:],antialias=True)*2 - 1\n"
   ]
  },
  {
   "cell_type": "markdown",
   "metadata": {},
   "source": [
    "# PIXEL PATCH SWD  "
   ]
  },
  {
   "cell_type": "code",
   "execution_count": 5,
   "metadata": {},
   "outputs": [],
   "source": [
    "random_image = torch.rand_like(im_resized)\n"
   ]
  },
  {
   "cell_type": "code",
   "execution_count": 6,
   "metadata": {},
   "outputs": [],
   "source": [
    "original_patches = extract_patches_batched(im_resized,10,10)\n",
    "\n",
    "random_patches = extract_patches_batched(random_image * 2 -1  ,10,10)\n",
    "\n",
    "fake_patches = extract_patches_batched(im_fake_tensor,10,10)\n",
    "\n"
   ]
  },
  {
   "cell_type": "code",
   "execution_count": 7,
   "metadata": {},
   "outputs": [],
   "source": [
    "swd_f_random = sliced_wasserstein_distance(original_patches,random_patches,1000)\n",
    "swd_fake = sliced_wasserstein_distance(original_patches,fake_patches,1000)"
   ]
  },
  {
   "cell_type": "code",
   "execution_count": 8,
   "metadata": {},
   "outputs": [
    {
     "data": {
      "text/plain": [
       "tensor(0.4951)"
      ]
     },
     "execution_count": 8,
     "metadata": {},
     "output_type": "execute_result"
    }
   ],
   "source": [
    "swd_f_random"
   ]
  },
  {
   "cell_type": "code",
   "execution_count": 9,
   "metadata": {},
   "outputs": [
    {
     "data": {
      "text/plain": [
       "tensor(0.0296)"
      ]
     },
     "execution_count": 9,
     "metadata": {},
     "output_type": "execute_result"
    }
   ],
   "source": [
    "swd_fake"
   ]
  },
  {
   "cell_type": "markdown",
   "metadata": {},
   "source": [
    "# FEATURE PATCH SWD"
   ]
  },
  {
   "cell_type": "code",
   "execution_count": 10,
   "metadata": {},
   "outputs": [],
   "source": [
    "inception_model = InceptionV3_Multi()\n",
    "inception_model.eval()\n",
    "\n",
    "import torch.nn.functional as F\n",
    "\n",
    "def preprocess_for_inception(x):\n",
    "    # accepte x en [3,H,W] ou [N,3,H,W]\n",
    "    was_3d = (x.dim() == 3)\n",
    "    if was_3d:\n",
    "        x = x.unsqueeze(0)          # → [1,3,H,W]\n",
    "    x = (x + 1) / 2\n",
    "    x = F.interpolate(x, size=(299,299), mode='bilinear', align_corners=False)\n",
    "    mean = torch.tensor([0.485,0.456,0.406], device=x.device).view(1,3,1,1)\n",
    "    std  = torch.tensor([0.229,0.224,0.225], device=x.device).view(1,3,1,1)\n",
    "    x = (x - mean) / std\n",
    "    return x.squeeze(0) if was_3d else x\n",
    "\n",
    "def preprocess_features(features):\n",
    "    \"\"\"\n",
    "    Prend features de forme (B, C, H, W)\n",
    "    et renvoie un tenseur (B * H * W, C),\n",
    "    i.e. un nuage de B*H*W vecteurs C-dimensionnels.\n",
    "    \"\"\"\n",
    "    B, C, H, W = features.shape\n",
    "    # 1) permute pour déplacer C en dernière dimension\n",
    "    x = features.permute(0, 2, 3, 1)    # [B, H, W, C]\n",
    "    # 2) flatten batch+spatial en une seule dimension\n",
    "    return x.reshape(B * H * W, C)      # [B*H*W, C]\n"
   ]
  },
  {
   "cell_type": "code",
   "execution_count": 13,
   "metadata": {},
   "outputs": [
    {
     "name": "stdout",
     "output_type": "stream",
     "text": [
      "\n",
      "swd real : 0.017706921324133873 \n",
      "\n",
      "swd random : 0.1869531124830246 \n",
      "\n",
      "swd real : 0.016321450471878052 \n",
      "\n",
      "swd random : 0.07398839294910431 \n",
      "\n",
      "swd real : 0.14348363876342773 \n",
      "\n",
      "swd random : 0.5297847390174866 \n"
     ]
    }
   ],
   "source": [
    "fake_preprocessed = preprocess_for_inception(im_fake_tensor)      # shape [b,3,299,299], requires_grad=True\n",
    "real_preprocessed = preprocess_for_inception(im_resized)  # idem, ou detach si tu préfères\n",
    "random_preprocessed = preprocess_for_inception(random_image*2 - 1)\n",
    "    \n",
    "fake_feats = inception_model(fake_preprocessed)    \n",
    "real_feats = inception_model(real_preprocessed)\n",
    "random_feats = inception_model(random_preprocessed)\n",
    "# ------------------------------------------------------------------\n",
    "#  Boucle sur les différentes tailles de patch\n",
    "# ------------------------------------------------------------------\n",
    "for i in range(len(fake_feats)):\n",
    "    swd_features_real = sliced_wasserstein_distance(preprocess_features(real_feats[i]), preprocess_features(fake_feats[i]), num_projections= 500)\n",
    "    swd_features_random = sliced_wasserstein_distance(preprocess_features(real_feats[i]), preprocess_features(random_feats[i]), num_projections= 500)\n",
    "    print(f\"\\nswd real : {swd_features_real} \")\n",
    "    print(f\"\\nswd random : {swd_features_random} \")\n",
    "\n"
   ]
  },
  {
   "cell_type": "code",
   "execution_count": 12,
   "metadata": {},
   "outputs": [
    {
     "data": {
      "text/plain": [
       "tensor(0.5703)"
      ]
     },
     "execution_count": 12,
     "metadata": {},
     "output_type": "execute_result"
    }
   ],
   "source": [
    "swd_features_random"
   ]
  },
  {
   "cell_type": "code",
   "execution_count": 158,
   "metadata": {},
   "outputs": [
    {
     "data": {
      "text/plain": [
       "tensor(0.1462, grad_fn=<MeanBackward0>)"
      ]
     },
     "execution_count": 158,
     "metadata": {},
     "output_type": "execute_result"
    }
   ],
   "source": [
    "swd_features_real"
   ]
  }
 ],
 "metadata": {
  "kernelspec": {
   "display_name": "cudacompatible",
   "language": "python",
   "name": "python3"
  },
  "language_info": {
   "codemirror_mode": {
    "name": "ipython",
    "version": 3
   },
   "file_extension": ".py",
   "mimetype": "text/x-python",
   "name": "python",
   "nbconvert_exporter": "python",
   "pygments_lexer": "ipython3",
   "version": "3.12.3"
  }
 },
 "nbformat": 4,
 "nbformat_minor": 2
}
